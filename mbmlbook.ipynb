{
 "cells": [
  {
   "cell_type": "markdown",
   "metadata": {},
   "source": [
    "# Exercises on Model based machine learning book"
   ]
  },
  {
   "cell_type": "markdown",
   "metadata": {},
   "source": [
    "## Murder Mystery\n",
    "### Self Assessment 1.0\n",
    "#### Qn4\n",
    "\n",
    "For one of the events in question 1, write a program to print out 100 samples from a Bernoulli distribution with your estimated probability of the event happening (if you’re not a programmer, you can use a spreadsheet instead). To sample from a Bernoulli(p) you first need a random number between 0 and 1 (RAND in Excel or random number functions in any programming language can give you this). To get one sample you then see if the random number is less than p  – in which case the sample is true, otherwise false. What proportion of the samples are true? You should find this is close to the parameter p . If you increase to 1,000 or 10,000 samples, you should find that the proportion gets closer and closer to p. We’ll see why this happens later in the book."
   ]
  },
  {
   "cell_type": "code",
   "execution_count": 76,
   "metadata": {},
   "outputs": [
    {
     "name": "stdout",
     "output_type": "stream",
     "text": [
      "Proportion of samples true for n=100 is 0.56\n",
      "Proportion of samples true for n=1000 is 0.585\n",
      "Proportion of samples true for n=10000 is 0.5954\n"
     ]
    }
   ],
   "source": [
    "# Probability of rain at the place where I live is 0.6\n",
    "import random\n",
    "# define bernoulis function\n",
    "bernouli = lambda p: random.random() < p\n",
    "\n",
    "# generate 100 samples of random\n",
    "\n",
    "p = 0.6\n",
    "n = 100\n",
    "print(f\"Proportion of samples true for n={n} is\", sum([bernouli(p) for _ in range(n)])/n)\n",
    "n=1000\n",
    "print(f\"Proportion of samples true for n={n} is\", sum([bernouli(p) for _ in range(n)])/n)\n",
    "n=10000\n",
    "print(f\"Proportion of samples true for n={n} is\", sum([bernouli(p) for _ in range(n)])/n)"
   ]
  },
  {
   "cell_type": "markdown",
   "metadata": {},
   "source": [
    "### Self Assessment 1.1\n",
    "#### Q3\n",
    "For one of the events in question 1, write a program to print out 100 samples of the conditioned variable for each value of the conditioning variable. Print the samples side by side and compare the proportion of samples in which the event occurs for when the conditioning variable is true to when it is false. Does the frequency of events look consistent with your common sense in each case? If not, go back and refine your conditional probability table and try again."
   ]
  },
  {
   "cell_type": "markdown",
   "metadata": {},
   "source": [
    "Conditional probability table for user getting a reply for an email conditioned on whether he knows the sender\n",
    "| Sender known | Reply=True | Reply=False|\n",
    "|--|--|--|\n",
    "| True | 0.8 | 0.2|\n",
    "|False| 0.3| 0.7|"
   ]
  },
  {
   "cell_type": "code",
   "execution_count": 88,
   "metadata": {},
   "outputs": [
    {
     "name": "stdout",
     "output_type": "stream",
     "text": [
      "Proportion of samples true for known sender with n=1000 is 0.774\n",
      "Proportion of samples true for unknown sender with n=1000 is 0.296\n"
     ]
    }
   ],
   "source": [
    "# generate 100 samples for known sender and unknown sender\n",
    "p_known = 0.8\n",
    "p_unknown = 0.3\n",
    "n = 1000\n",
    "print(f\"Proportion of samples true for known sender with n={n} is\", sum([bernouli(p_known) for _ in range(n)])/n)\n",
    "print(f\"Proportion of samples true for unknown sender with n={n} is\", sum([bernouli(p_unknown) for _ in range(n)])/n)\n"
   ]
  },
  {
   "cell_type": "markdown",
   "metadata": {},
   "source": [
    "## Self Assessment 1.2\n"
   ]
  }
 ],
 "metadata": {
  "kernelspec": {
   "display_name": "Python 3",
   "language": "python",
   "name": "python3"
  },
  "language_info": {
   "codemirror_mode": {
    "name": "ipython",
    "version": 3
   },
   "file_extension": ".py",
   "mimetype": "text/x-python",
   "name": "python",
   "nbconvert_exporter": "python",
   "pygments_lexer": "ipython3",
   "version": "3.10.12"
  }
 },
 "nbformat": 4,
 "nbformat_minor": 2
}
