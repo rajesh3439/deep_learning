{
 "cells": [
  {
   "cell_type": "code",
   "execution_count": null,
   "id": "438010bc",
   "metadata": {},
   "outputs": [],
   "source": [
    "import os\n",
    "import requests\n",
    "from typing import Dict, Any\n",
    "\n",
    "from langchain_openai import ChatOpenAI\n",
    "from langchain_core.tools import tool\n",
    "from langchain_core.messages import HumanMessage, SystemMessage, ToolMessage"
   ]
  },
  {
   "cell_type": "markdown",
   "id": "428f29b8",
   "metadata": {},
   "source": [
    "# Globals"
   ]
  },
  {
   "cell_type": "code",
   "execution_count": 49,
   "id": "abb6d06e",
   "metadata": {},
   "outputs": [],
   "source": [
    "MODEL = \"avathon-openai/gpt-4.1\" #gpt-4o-mini\n",
    "RECURSION_LIMIT = 100\n",
    "BASE_URL = \"https://model-gateway.dev-platform.avathon.com\"\n",
    "# Load api keys from env file\n",
    "from dotenv import load_dotenv\n",
    "load_dotenv()\n",
    "\n",
    "WEATHER_API_KEY = os.getenv(\"WEATHER_API_KEY\")\n",
    "MODEL_API_KEY = os.getenv(\"MODEL_API_KEY\")"
   ]
  },
  {
   "cell_type": "markdown",
   "id": "fa265154",
   "metadata": {},
   "source": [
    "# Define model"
   ]
  },
  {
   "cell_type": "code",
   "execution_count": 51,
   "id": "0c9bff82",
   "metadata": {},
   "outputs": [],
   "source": [
    "llm = ChatOpenAI(model=MODEL, base_url=BASE_URL, api_key=MODEL_API_KEY)"
   ]
  },
  {
   "cell_type": "markdown",
   "id": "d60afbb6",
   "metadata": {},
   "source": [
    "Test model"
   ]
  },
  {
   "cell_type": "code",
   "execution_count": 52,
   "id": "54e9a1a6",
   "metadata": {},
   "outputs": [
    {
     "data": {
      "text/plain": [
       "'Ich liebe das Programmieren.'"
      ]
     },
     "execution_count": 52,
     "metadata": {},
     "output_type": "execute_result"
    }
   ],
   "source": [
    "messages = [\n",
    "    (\n",
    "        \"system\",\n",
    "        \"You are a helpful assistant that translates English to German. Translate the user sentence.\",\n",
    "    ),\n",
    "    (\"human\", \"I love programming.\"),\n",
    "]\n",
    "ai_msg = llm.invoke(messages)\n",
    "ai_msg.content"
   ]
  },
  {
   "cell_type": "markdown",
   "id": "3d4bdd85",
   "metadata": {},
   "source": [
    "# TOOL CALL"
   ]
  },
  {
   "cell_type": "markdown",
   "id": "9ba6898f",
   "metadata": {},
   "source": [
    "## Weather Agent"
   ]
  },
  {
   "cell_type": "markdown",
   "id": "0ea267a4",
   "metadata": {},
   "source": [
    "LLM Agent that provides the current weather at specified location. \n",
    "\n",
    "This agent uses the api call with structured response."
   ]
  },
  {
   "cell_type": "code",
   "execution_count": 53,
   "id": "e97ba910",
   "metadata": {},
   "outputs": [
    {
     "name": "stdout",
     "output_type": "stream",
     "text": [
      "location='Bengaluru, India' temperature='20.4°C' feels_like='20.4°C' description='Partly cloudy' humidity='94%' wind_speed='23.4 km/h'\n"
     ]
    }
   ],
   "source": [
    "from pydantic import BaseModel, Field\n",
    "\n",
    "class GetWeatherResponse(BaseModel):\n",
    "    location: str = Field(description=\"The location of the weather\")\n",
    "    temperature: str = Field(description=\"The temperature of the weather\")\n",
    "    feels_like: str = Field(description=\"The feels like temperature of the weather\")\n",
    "    description: str = Field(description=\"The description of the weather\")\n",
    "    humidity: str = Field(description=\"The humidity of the weather\")\n",
    "    wind_speed: str = Field(description=\"The wind speed of the weather\")\n",
    "\n",
    "\n",
    "@tool\n",
    "def get_weather(location: str) -> GetWeatherResponse:\n",
    "    \"\"\"Get current weather information for a specific location.\n",
    "    \n",
    "    Args:\n",
    "        location: City name or location to get weather for\n",
    "        \n",
    "    Returns:\n",
    "        Weather information as a formatted string\n",
    "    \"\"\"\n",
    "    try:\n",
    "        url = \"http://api.weatherapi.com/v1/current.json\"\n",
    "        params = {\n",
    "            \"q\": location,\n",
    "            \"key\": WEATHER_API_KEY,\n",
    "            \"aqi\": \"no\"\n",
    "        }\n",
    "        \n",
    "        response = requests.get(url, params=params)\n",
    "        response.raise_for_status()\n",
    "        \n",
    "        data = response.json()\n",
    "        weather_info = GetWeatherResponse(\n",
    "            location=f\"{data['location']['name']}, {data['location']['country']}\",\n",
    "            temperature=f\"{data['current']['temp_c']}°C\",\n",
    "            feels_like=f\"{data['current']['feelslike_c']}°C\",\n",
    "            description=data['current']['condition']['text'],\n",
    "            humidity=f\"{data['current']['humidity']}%\",\n",
    "            wind_speed=f\"{data['current']['wind_kph']} km/h\"\n",
    "        )\n",
    "        \n",
    "        return weather_info\n",
    "        \n",
    "    except requests.exceptions.RequestException as e:\n",
    "        return f\"Error fetching weather data: {str(e)}\"\n",
    "    except KeyError as e:\n",
    "        return f\"Error parsing weather data: {str(e)}\"\n",
    "    except Exception as e:\n",
    "        return f\"Unexpected error: {str(e)}\"\n",
    "\n",
    "\n",
    "# Alternate weather api (works without api key)\n",
    "def _get_weather(latitude, longitude):\n",
    "    response = requests.get(f\"https://api.open-meteo.com/v1/forecast?latitude={latitude}&longitude={longitude}&current=temperature_2m,wind_speed_10m&hourly=temperature_2m,relative_humidity_2m,wind_speed_10m\")\n",
    "    data = response.json()\n",
    "    return data['current']['temperature_2m']\n",
    "\n",
    "\n",
    "\n",
    "print(get_weather(\"Bengaluru\"))"
   ]
  },
  {
   "cell_type": "code",
   "execution_count": 57,
   "id": "e6191a13",
   "metadata": {},
   "outputs": [],
   "source": [
    "def weather_agent(user_query: str) -> str:\n",
    "    \"\"\"Simple weather agent that can answer weather-related questions.\n",
    "    \n",
    "    Args:\n",
    "        user_query: User's question about weather\n",
    "        \n",
    "    Returns:\n",
    "        Agent's response including weather data if requested\n",
    "    \"\"\"\n",
    "    messages = [\n",
    "        SystemMessage(content=\"You are a helpful weather assistant. When users ask about weather, use the get_weather tool to provide current weather information. Be conversational and helpful.\"),\n",
    "        HumanMessage(content=user_query)\n",
    "    ]\n",
    "    \n",
    "    ai_msg = llm_with_tools.invoke(messages)\n",
    "    # print(\"DEBUG weather agent: \", ai_msg)\n",
    "    \n",
    "    if ai_msg.tool_calls:\n",
    "        messages.append(ai_msg)\n",
    "        \n",
    "        for tool_call in ai_msg.tool_calls:\n",
    "            selected_tool = {\"get_weather\": get_weather}[tool_call[\"name\"].lower()]\n",
    "            tool_output = selected_tool.invoke(tool_call[\"args\"])\n",
    "            messages.append(ToolMessage(content=tool_output, tool_call_id=tool_call[\"id\"]))\n",
    "        \n",
    "        ai_msg = llm_with_tools.invoke(messages)\n",
    "    \n",
    "    return ai_msg.content\n"
   ]
  },
  {
   "cell_type": "code",
   "execution_count": 54,
   "id": "92e88f61",
   "metadata": {},
   "outputs": [
    {
     "name": "stdout",
     "output_type": "stream",
     "text": [
      "Weather agent is ready! The LLM can now access weather data.\n"
     ]
    }
   ],
   "source": [
    "tools = [get_weather]\n",
    "llm_with_tools = llm.bind_tools(tools)\n",
    "\n",
    "print(\"Weather agent is ready! The LLM can now access weather data.\")\n"
   ]
  },
  {
   "cell_type": "markdown",
   "id": "a9f7921d",
   "metadata": {},
   "source": [
    "Spot check Weather agent"
   ]
  },
  {
   "cell_type": "code",
   "execution_count": 55,
   "id": "037cad6c",
   "metadata": {},
   "outputs": [
    {
     "name": "stdout",
     "output_type": "stream",
     "text": [
      "{'name': 'get_weather', 'args': {'location': 'San Francisco'}, 'id': 'call_b6nxtIpnAIndFCuT5zewIiym', 'type': 'tool_call'}\n",
      "The current weather in San Francisco is partly cloudy, with a temperature of 16.3°C (feels like 16.3°C). Humidity is at 94%, and the wind speed is 23.0 km/h.\n"
     ]
    }
   ],
   "source": [
    "user_question = \"What's the weather like in San Francisco?\"\n",
    "\n",
    "ai_msg = llm_with_tools.invoke(user_question)\n",
    "# print(ai_msg)\n",
    "\n",
    "messages = []\n",
    "if ai_msg.tool_calls:\n",
    "    messages.append(ai_msg)\n",
    "    for tool_call in ai_msg.tool_calls:\n",
    "        print(tool_call)\n",
    "        selected_tool = {\"get_weather\": get_weather}[tool_call[\"name\"].lower()]\n",
    "        # print(selected_tool)\n",
    "        tool_output = selected_tool.invoke(tool_call[\"args\"])\n",
    "        # print(tool_output)\n",
    "        messages.append(ToolMessage(content=tool_output, tool_call_id=tool_call[\"id\"]))\n",
    "\n",
    "    ai_msg = llm_with_tools.invoke(messages)\n",
    "    print(ai_msg.content)\n",
    "\n",
    "\n"
   ]
  },
  {
   "cell_type": "markdown",
   "id": "a8a4506f",
   "metadata": {
    "vscode": {
     "languageId": "raw"
    }
   },
   "source": [
    "## Testing the Weather Agent\n",
    "\n",
    "**Note**: You need to:\n",
    "1. Get a free API key from [OpenWeatherMap](https://openweathermap.org/api)\n",
    "2. Replace `WEATHER_API_KEY` with your actual API key\n",
    "3. Install required package: `uv pip install requests`\n"
   ]
  },
  {
   "cell_type": "code",
   "execution_count": 58,
   "id": "359cf484",
   "metadata": {},
   "outputs": [
    {
     "name": "stdout",
     "output_type": "stream",
     "text": [
      "Testing Weather Agent:\n",
      "==================================================\n",
      "\n",
      "🤔 User: What's the weather like in London?\n",
      "🤖 Agent: The weather in London is currently overcast with a temperature of 17.3°C. It feels about the same as the actual temperature. Humidity is at 82%, and there's a gentle breeze with a wind speed of 7.9 km/h.\n",
      "\n",
      "Would you like a forecast for the next few days or any other weather details?\n",
      "------------------------------\n",
      "\n",
      "🤔 User: How is the weather in Tokyo today?\n",
      "🤖 Agent: The weather in Tokyo today is sunny, with a temperature of 30.2°C and it feels like 32.0°C. Humidity is at 51%, and there's a gentle breeze with wind speeds of 15.8 km/h.\n",
      "\n",
      "Let me know if you need more details or want the forecast for the coming days!\n",
      "------------------------------\n",
      "\n",
      "🤔 User: Tell me about the current weather conditions in New York\n",
      "🤖 Agent: Currently in New York, it's partly cloudy with a temperature of 32.8°C, but it feels warmer at 36.1°C. Humidity is at 47%, and there's a moderate wind blowing at 19.1 km/h. Would you like more details or a forecast for the coming days?\n",
      "------------------------------\n",
      "\n",
      "🤔 User: Is it raining in Paris right now?\n",
      "🤖 Agent: It's currently overcast in Paris, but there is no rain at the moment. If you need more detailed weather updates or a forecast, let me know!\n",
      "------------------------------\n",
      "\n",
      "🤔 User: What should I wear outside in Mumbai today?\n",
      "🤖 Agent: Today in Mumbai, it's around 27°C but feels warmer at about 31°C due to high humidity (89%). There's mist in the air and a noticeable breeze with winds at 36.7 km/h.\n",
      "\n",
      "I recommend wearing lightweight, breathable clothing to stay comfortable in the warm and humid weather. An umbrella or light rain jacket could also be useful just in case the mist turns into drizzle. If you’ll be outside for a while, sunglasses and a hat can help protect you from the sun when it shines through the mist.\n",
      "------------------------------\n"
     ]
    }
   ],
   "source": [
    "test_queries = [\n",
    "    \"What's the weather like in London?\",\n",
    "    \"How is the weather in Tokyo today?\",\n",
    "    \"Tell me about the current weather conditions in New York\",\n",
    "    \"Is it raining in Paris right now?\",\n",
    "    \"What should I wear outside in Mumbai today?\"\n",
    "]\n",
    "\n",
    "print(\"Testing Weather Agent:\")\n",
    "print(\"=\" * 50)\n",
    "\n",
    "for query in test_queries:\n",
    "    print(f\"\\n🤔 User: {query}\")\n",
    "    try:\n",
    "        response = weather_agent(query)\n",
    "        print(f\"🤖 Agent: {response}\")\n",
    "    except Exception as e:\n",
    "        print(f\"❌ Error: {e}\")\n",
    "    print(\"-\" * 30)\n"
   ]
  }
 ],
 "metadata": {
  "kernelspec": {
   "display_name": ".venv",
   "language": "python",
   "name": "python3"
  },
  "language_info": {
   "codemirror_mode": {
    "name": "ipython",
    "version": 3
   },
   "file_extension": ".py",
   "mimetype": "text/x-python",
   "name": "python",
   "nbconvert_exporter": "python",
   "pygments_lexer": "ipython3",
   "version": "3.12.8"
  }
 },
 "nbformat": 4,
 "nbformat_minor": 5
}
