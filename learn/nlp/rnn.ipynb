{
 "cells": [
  {
   "cell_type": "markdown",
   "id": "236a8aa4",
   "metadata": {},
   "source": [
    "# Recurrent Neural Network (RNN)\n",
    "\n",
    "This implmenation of the RNN is inspired from Karparty's cs231n Lecture [model](https://gist.github.com/karpathy/d4dee566867f8291f086). This RNN is adapted for character level language model which generates names (makemore) project model.\n",
    "\n",
    "**Note:**\n",
    "We are pytorchifying the numpy version in this notebook\n"
   ]
  },
  {
   "cell_type": "code",
   "execution_count": 7,
   "id": "e021e6e0",
   "metadata": {},
   "outputs": [],
   "source": [
    "import torch\n",
    "import torch.nn.functional as F\n",
    "import matplotlib.pyplot as plt # for making figures\n",
    "\n",
    "%matplotlib inline"
   ]
  },
  {
   "cell_type": "markdown",
   "id": "65dd5620",
   "metadata": {},
   "source": [
    "## Load Data"
   ]
  },
  {
   "cell_type": "code",
   "execution_count": 8,
   "id": "be71a2cf",
   "metadata": {},
   "outputs": [
    {
     "data": {
      "text/plain": [
       "['emma', 'olivia', 'ava', 'isabella', 'sophia', 'charlotte', 'mia', 'amelia']"
      ]
     },
     "execution_count": 8,
     "metadata": {},
     "output_type": "execute_result"
    }
   ],
   "source": [
    "# read in all the words\n",
    "words = open('names.txt', 'r').read().splitlines()\n",
    "words[:8]"
   ]
  },
  {
   "cell_type": "code",
   "execution_count": 9,
   "id": "02984942",
   "metadata": {},
   "outputs": [
    {
     "name": "stdout",
     "output_type": "stream",
     "text": [
      "len(words)=32033\n"
     ]
    }
   ],
   "source": [
    "print(f\"{len(words)=}\")"
   ]
  },
  {
   "cell_type": "markdown",
   "id": "a53951e2",
   "metadata": {},
   "source": [
    "## Helpers"
   ]
  },
  {
   "cell_type": "code",
   "execution_count": 10,
   "id": "4128ce27",
   "metadata": {},
   "outputs": [
    {
     "name": "stdout",
     "output_type": "stream",
     "text": [
      "{1: 'a', 2: 'b', 3: 'c', 4: 'd', 5: 'e', 6: 'f', 7: 'g', 8: 'h', 9: 'i', 10: 'j', 11: 'k', 12: 'l', 13: 'm', 14: 'n', 15: 'o', 16: 'p', 17: 'q', 18: 'r', 19: 's', 20: 't', 21: 'u', 22: 'v', 23: 'w', 24: 'x', 25: 'y', 26: 'z', 0: '.'}\n",
      "27\n"
     ]
    }
   ],
   "source": [
    "# build the vocabulary of characters and mappings to/from integers\n",
    "chars = sorted(list(set(''.join(words))))\n",
    "stoi = {s:i+1 for i,s in enumerate(chars)}\n",
    "stoi['.'] = 0\n",
    "itos = {i:s for s,i in stoi.items()}\n",
    "vocab_size = len(itos)\n",
    "print(itos)\n",
    "print(vocab_size)"
   ]
  },
  {
   "cell_type": "markdown",
   "id": "ea13c672",
   "metadata": {},
   "source": [
    "## Build Dataset"
   ]
  },
  {
   "cell_type": "code",
   "execution_count": 11,
   "id": "b3e3c097",
   "metadata": {},
   "outputs": [
    {
     "name": "stdout",
     "output_type": "stream",
     "text": [
      "torch.Size([182625, 3]) torch.Size([182625, 3])\n",
      "torch.Size([22655, 3]) torch.Size([22655, 3])\n",
      "torch.Size([22866, 3]) torch.Size([22866, 3])\n"
     ]
    }
   ],
   "source": [
    "# build the dataset\n",
    "block_size = 3 # context length: how many characters do we take to predict the next one?\n",
    "\n",
    "def build_dataset(words):  \n",
    "  X, Y = [], []\n",
    "  \n",
    "  for w in words:\n",
    "    context = [0] * block_size\n",
    "    for ch in w + '.':\n",
    "      ix = stoi[ch]\n",
    "      X.append(context)\n",
    "      context = context[1:] + [ix] # crop and append\n",
    "      Y.append(context)  # Y's are 1 shifted from X \n",
    "\n",
    "  X = torch.tensor(X)\n",
    "  Y = torch.tensor(Y)\n",
    "  print(X.shape, Y.shape)\n",
    "  return X, Y\n",
    "\n",
    "import random\n",
    "random.seed(42)\n",
    "random.shuffle(words)\n",
    "n1 = int(0.8*len(words))\n",
    "n2 = int(0.9*len(words))\n",
    "\n",
    "Xtr,  Ytr  = build_dataset(words[:n1])     # 80%\n",
    "Xdev, Ydev = build_dataset(words[n1:n2])   # 10%\n",
    "Xte,  Yte  = build_dataset(words[n2:])     # 10%"
   ]
  },
  {
   "cell_type": "markdown",
   "id": "74bbb989",
   "metadata": {},
   "source": [
    "## Model\n",
    "\n",
    "A RNN Model consists of three layers. \n",
    "1. Input Layer\n",
    "2. Hidden Layer\n",
    "3. Output layer\n",
    "\n",
    "Mathematical formulation of a RNN Cell(neuron is) \n",
    "$$ h_t = tanh(W_{hh}h_{t-1} + W_{xh}x_t)$$\n",
    "$$ y_t = W_{hy}h_t$$\n",
    "\n",
    "Here,\n",
    "- $x_t$ is input at time-step *t*\n",
    "- $h_t$ is hidden state at time *t-1*\n",
    "- $y_t$ is output at time *t*\n",
    "- $W_{hh}, W_{xh}, W_{hy}$ is weigth matrices (parameteres learned by the network)"
   ]
  },
  {
   "cell_type": "code",
   "execution_count": 76,
   "id": "04399acc",
   "metadata": {},
   "outputs": [
    {
     "name": "stdout",
     "output_type": "stream",
     "text": [
      "Total parameters:14097\n"
     ]
    }
   ],
   "source": [
    "# RNN\n",
    "# hyper-parameters\n",
    "n_embd = 10 # the dimensionality of the character embedding vectors\n",
    "n_hidden = 100 # the number of neurons in the hidden layer of the MLP\n",
    "seq_len = block_size # number of steps to unroll the RNN for\n",
    "\n",
    "# model parameters\n",
    "g = torch.Generator().manual_seed(2147483647) # for reproducibility\n",
    "C  = torch.randn((vocab_size, n_embd),          generator=g)  # embedding look-up table\n",
    "Wxh = torch.randn((n_embd, n_hidden),           generator=g) * 0.01 # Input to hidden weights\n",
    "Whh = torch.randn((n_hidden, n_hidden),         generator=g) * 0.01 # Hidden layer\n",
    "Why = torch.randn((n_hidden, vocab_size),       generator=g) * 0.01 # Hideen to output\n",
    "bh = torch.zeros(n_hidden)  # hidden bias\n",
    "by = torch.zeros(vocab_size)  # output bias\n",
    "\n",
    "\n",
    "parameters = [C, Wxh, Whh, Why, bh, by]\n",
    "\n",
    "print(f\"Total parameters:{(sum(p.nelement() for p in parameters))}\")\n",
    "# for p in parameters:\n",
    "#     p.requires_grad = True"
   ]
  },
  {
   "cell_type": "markdown",
   "id": "590a26e5",
   "metadata": {},
   "source": [
    "### Manual Implementation of Forward and Backprop"
   ]
  },
  {
   "cell_type": "code",
   "execution_count": 78,
   "id": "fb6b1a72",
   "metadata": {},
   "outputs": [
    {
     "name": "stdout",
     "output_type": "stream",
     "text": [
      "      0/ 200000: 9.8852\n",
      "  10000/ 200000: 6.9317\n",
      "  20000/ 200000: 7.1744\n",
      "  30000/ 200000: 6.2033\n",
      "  40000/ 200000: 6.8114\n",
      "  50000/ 200000: 6.4962\n",
      "  60000/ 200000: 6.6618\n",
      "  70000/ 200000: 5.8254\n",
      "  80000/ 200000: 7.5738\n",
      "  90000/ 200000: 6.6553\n",
      " 100000/ 200000: 6.7282\n",
      " 110000/ 200000: 6.0011\n",
      " 120000/ 200000: 6.5758\n",
      " 130000/ 200000: 5.9208\n",
      " 140000/ 200000: 6.1063\n",
      " 150000/ 200000: 6.2999\n",
      " 160000/ 200000: 6.3069\n",
      " 170000/ 200000: 5.7709\n",
      " 180000/ 200000: 6.5021\n",
      " 190000/ 200000: 5.8689\n"
     ]
    }
   ],
   "source": [
    "# training loop\n",
    "max_steps = 200_000\n",
    "batch_size = 32\n",
    "n = batch_size\n",
    "\n",
    "hprev = torch.zeros(n_hidden).expand(batch_size, -1) # initialize hidden state to zero\n",
    "lossi = []\n",
    "with torch.no_grad():\n",
    "    for i in range(max_steps):\n",
    "        # construct minibatch\n",
    "        ix = torch.randint(0, Xtr.shape[0], (batch_size,), generator=g)\n",
    "        Xb, Yb = Xtr[ix], Ytr[ix]\n",
    "        \n",
    "        # forward pass\n",
    "        loss = 0 # initialize loss \n",
    "        xs, hs, ys = {}, {}, {}\n",
    "        hs[-1] = hprev\n",
    "        # sequentially iterate over the inputs and update hidden state of RNN each tick\n",
    "        for t in range(seq_len):\n",
    "            xs[t] = C[Xb[:, t]] # Embed input samples (b, n_embed)\n",
    "            hs[t] = torch.tanh(xs[t]@Wxh + hs[t-1]@Whh + bh) # (b, n_hidden)\n",
    "            ys[t] = hs[t]@Why + by # (b, n_vocab)\n",
    "            loss += F.cross_entropy(ys[t], Yb[:,t])\n",
    "\n",
    "        # backward pass\n",
    "        for p in parameters:\n",
    "            p.grad = None\n",
    "\n",
    "        # compute gradients\n",
    "        dWxh, dWhh, dWhy, dC = torch.zeros_like(Wxh), torch.zeros_like(Whh), torch.zeros_like(Why), torch.zeros_like(C)\n",
    "        dbh, dby = torch.zeros_like(bh), torch.zeros_like(by)\n",
    "        dhnext = torch.zeros_like(hs[0])\n",
    "        for t in reversed(range(seq_len)):\n",
    "            # cross entropy\n",
    "            dy = F.softmax(ys[t], dim=1)\n",
    "            dy[range(n), Yb[:,t]] -= 1 # \n",
    "            dy /= n # factor of 1/n is due to mean at loss computation\n",
    "            # logits layer\n",
    "            dh = dy @ Why.T + dhnext \n",
    "            dWhy += hs[t].T @ dy\n",
    "            dby += dy.sum(dim=0)\n",
    "            # tanh layer\n",
    "            dhraw = (1 - hs[t]**2) * dh\n",
    "            # linear layer \n",
    "            dbh += dhraw.sum(0)\n",
    "            dWhh += hs[t-1].T @ dhraw\n",
    "            dWxh += xs[t].T @ dhraw\n",
    "            dx = dhraw @ Wxh.T\n",
    "            dhnext = dhraw @ Whh.T \n",
    "            # Embedding\n",
    "            # re route embedding contribtions to table\n",
    "            for k in range(Xb.shape[0]):\n",
    "                ix = Xb[k, t]\n",
    "                dC[ix] += dx[k]\n",
    "\n",
    "        dparameters = [dC, dWxh, dWhh, dWhy, dbh, dby]\n",
    "        # Gradient clipping to avoid exploding gradients\n",
    "        for dp in dparameters:\n",
    "            torch.clip(dp, -5, 5, out=dp)\n",
    "\n",
    "        # update \n",
    "        lr = 0.1 if i < 100_000 else 0.01\n",
    "        for p, dp in zip(parameters, dparameters):\n",
    "            p.data += -lr * dp\n",
    "\n",
    "        # track stats\n",
    "        if i % 10000 == 0: # print every once in a while\n",
    "            print(f'{i:7d}/{max_steps:7d}: {loss.item():.4f}')\n",
    "        lossi.append(loss.log10().item())\n"
   ]
  },
  {
   "cell_type": "code",
   "execution_count": 79,
   "id": "a1e389f0",
   "metadata": {},
   "outputs": [
    {
     "data": {
      "image/png": "[encoded data removed]",
      "text/plain": [
       "<Figure size 640x480 with 1 Axes>"
      ]
     },
     "metadata": {},
     "output_type": "display_data"
    }
   ],
   "source": [
    "plt.plot(lossi);"
   ]
  },
  {
   "cell_type": "code",
   "execution_count": 90,
   "id": "fed477a0",
   "metadata": {},
   "outputs": [
    {
     "name": "stdout",
     "output_type": "stream",
     "text": [
      "train 2.068574905395508\n",
      "val 2.114812135696411\n"
     ]
    }
   ],
   "source": [
    "@torch.no_grad() # this decorator disables gradient tracking\n",
    "def split_loss(split):\n",
    "    x,y = {\n",
    "    'train': (Xtr, Ytr),\n",
    "    'val': (Xdev, Ydev),\n",
    "    'test': (Xte, Yte),\n",
    "    }[split]\n",
    "    # forward pass\n",
    "    loss = 0 # initialize loss \n",
    "    xs, hs, ys = {}, {}, {}\n",
    "    hs[-1] = torch.zeros(n_hidden).expand(x.shape[0], -1)\n",
    "    # sequentially iterate over the inputs and update hidden state of RNN each tick\n",
    "    for t in range(seq_len):\n",
    "        xs[t] = C[x[:, t]] # Embed input samples (b, n_embed)\n",
    "        hs[t] = torch.tanh(xs[t]@Wxh + hs[t-1]@Whh + bh) # (b, n_hidden)\n",
    "        ys[t] = hs[t]@Why + by # (b, n_vocab)\n",
    "    loss += F.cross_entropy(ys[t], y[:,t])\n",
    "    print(split, loss.item())\n",
    "    \n",
    "\n",
    "split_loss('train')\n",
    "split_loss('val')"
   ]
  },
  {
   "cell_type": "code",
   "execution_count": 89,
   "id": "e1b83a0c",
   "metadata": {},
   "outputs": [
    {
     "name": "stdout",
     "output_type": "stream",
     "text": [
      "carlah.\n",
      "amberleigh.\n",
      "mili.\n",
      "taty.\n",
      "skanden.\n",
      "jazhita.\n",
      "deliah.\n",
      "jareen.\n",
      "nellara.\n",
      "chaiir.\n",
      "kaleigh.\n",
      "ham.\n",
      "jocs.\n",
      "quinn.\n",
      "shlin.\n",
      "alianni.\n",
      "waterri.\n",
      "jaristin.\n",
      "jenni.\n",
      "sabeed.\n"
     ]
    }
   ],
   "source": [
    "# sample from the model\n",
    "g = torch.Generator().manual_seed(2147483647 + 10)\n",
    "\n",
    "for _ in range(20):\n",
    "    \n",
    "    out = []\n",
    "    context = [0] * block_size # initialize with all ...\n",
    "    while True:\n",
    "        # forward pass\n",
    "        loss = 0 # initialize loss \n",
    "        xs, hs, ps = {}, {}, {}\n",
    "        hs[-1] = torch.zeros(n_hidden)#.expand(, -1)\n",
    "        # sequentially iterate over the inputs and update hidden state of RNN each tick\n",
    "        for t in range(seq_len):\n",
    "            xs[t] = C[torch.tensor(context[t])] # Embed input samples (b, n_embed)\n",
    "            hs[t] = torch.tanh(xs[t]@Wxh + hs[t-1]@Whh + bh) # (b, n_hidden)\n",
    "            ys[t] = hs[t]@Why + by # (b, n_vocab)\n",
    "            ps[t] = F.softmax(ys[t], dim=0)\n",
    "        # sample\n",
    "        ix = torch.multinomial(ps[t], num_samples=1, generator=g).item()\n",
    "        context = context[1:] + [ix]\n",
    "        out.append(ix)\n",
    "        if ix == 0:\n",
    "            break\n",
    "    \n",
    "    print(''.join(itos[i] for i in out))"
   ]
  },
  {
   "cell_type": "code",
   "execution_count": null,
   "id": "c3391935",
   "metadata": {},
   "outputs": [],
   "source": []
  }
 ],
 "metadata": {
  "kernelspec": {
   "display_name": ".venv",
   "language": "python",
   "name": "python3"
  },
  "language_info": {
   "codemirror_mode": {
    "name": "ipython",
    "version": 3
   },
   "file_extension": ".py",
   "mimetype": "text/x-python",
   "name": "python",
   "nbconvert_exporter": "python",
   "pygments_lexer": "ipython3",
   "version": "3.12.8"
  }
 },
 "nbformat": 4,
 "nbformat_minor": 5
}
