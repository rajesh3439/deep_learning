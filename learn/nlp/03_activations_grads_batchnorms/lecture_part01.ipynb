{
 "cells": [
  {
   "cell_type": "markdown",
   "id": "1228d92c",
   "metadata": {},
   "source": [
    "# Activations Gradients and Batch Normalization\n",
    "\n",
    "This notebook is from part 3 of lecture notes from \"Neural Networks: Zero to hero\" series. [Lecture link](https://www.youtube.com/watch?v=P6sfmUTpUmc)\n",
    "\n",
    "This lecture explores the effect of initialization on the gradients and the activations. And how initializations and batch normalizations are helpful in mitigating the issues. \n",
    "\n",
    "1. [Intial training loss and Tanh saturations](#initial-loss-tanh-saturations)\n",
    "2. [Kaiming init](#kaiming-init)\n",
    "\n",
    "\n",
    "\n",
    "\n",
    "| Initialization   | Initial Loss | Train loss | Val loss | Remarks |\n",
    "|------------------|------------|----------| -- | -- |\n",
    "| Random Normal    | 27.881 | 2.126      | 2.169    | Original |\n",
    "| b2 * 0, W2 * 0.01    | 3.322 | 2.069 | 2.131 | Fix initial loss at output layer |\n",
    "| b2 * 0, W2 * 0.01, b1 * 0.01, W1 * 0.2    | 3.313 | 2.035 | 2.102 | Fix tanh layer too saturated at init |\n",
    "| Kaiming | 3.317 | 2.037 | 2.106 | Systematic method to fix tanh saturations |\n",
    "| Batch Normalization | 3.314 | 2.066 | 2.104 | Standerdize the preactivation ouptut |"
   ]
  },
  {
   "cell_type": "code",
   "execution_count": 1,
   "id": "b6d4e15b",
   "metadata": {},
   "outputs": [],
   "source": [
    "import torch\n",
    "import torch.nn.functional as F\n",
    "import matplotlib.pyplot as plt # for making figures\n",
    "%matplotlib inline"
   ]
  },
  {
   "cell_type": "markdown",
   "id": "f9743093",
   "metadata": {},
   "source": [
    "## Load Data"
   ]
  },
  {
   "cell_type": "code",
   "execution_count": 2,
   "id": "351b041f",
   "metadata": {},
   "outputs": [
    {
     "data": {
      "text/plain": [
       "['emma', 'olivia', 'ava', 'isabella', 'sophia', 'charlotte', 'mia', 'amelia']"
      ]
     },
     "execution_count": 2,
     "metadata": {},
     "output_type": "execute_result"
    }
   ],
   "source": [
    "# read in all the words\n",
    "words = open('../names.txt', 'r').read().splitlines()\n",
    "words[:8]"
   ]
  },
  {
   "cell_type": "code",
   "execution_count": 3,
   "id": "aefdaa9e",
   "metadata": {},
   "outputs": [
    {
     "name": "stdout",
     "output_type": "stream",
     "text": [
      "len(words)=32033\n"
     ]
    }
   ],
   "source": [
    "print(f\"{len(words)=}\")"
   ]
  },
  {
   "cell_type": "markdown",
   "id": "4e37cdd5",
   "metadata": {},
   "source": [
    "## Helpers"
   ]
  },
  {
   "cell_type": "code",
   "execution_count": 4,
   "id": "9cb02485",
   "metadata": {},
   "outputs": [
    {
     "name": "stdout",
     "output_type": "stream",
     "text": [
      "{1: 'a', 2: 'b', 3: 'c', 4: 'd', 5: 'e', 6: 'f', 7: 'g', 8: 'h', 9: 'i', 10: 'j', 11: 'k', 12: 'l', 13: 'm', 14: 'n', 15: 'o', 16: 'p', 17: 'q', 18: 'r', 19: 's', 20: 't', 21: 'u', 22: 'v', 23: 'w', 24: 'x', 25: 'y', 26: 'z', 0: '.'}\n",
      "27\n"
     ]
    }
   ],
   "source": [
    "# build the vocabulary of characters and mappings to/from integers\n",
    "chars = sorted(list(set(''.join(words))))\n",
    "stoi = {s:i+1 for i,s in enumerate(chars)}\n",
    "stoi['.'] = 0\n",
    "itos = {i:s for s,i in stoi.items()}\n",
    "vocab_size = len(itos)\n",
    "print(itos)\n",
    "print(vocab_size)"
   ]
  },
  {
   "cell_type": "markdown",
   "id": "e648a747",
   "metadata": {},
   "source": [
    "## Build Dataset"
   ]
  },
  {
   "cell_type": "code",
   "execution_count": 5,
   "id": "33955f19",
   "metadata": {},
   "outputs": [
    {
     "name": "stdout",
     "output_type": "stream",
     "text": [
      "torch.Size([182625, 3]) torch.Size([182625])\n",
      "torch.Size([22655, 3]) torch.Size([22655])\n",
      "torch.Size([22866, 3]) torch.Size([22866])\n"
     ]
    }
   ],
   "source": [
    "# build the dataset\n",
    "block_size = 3 # context length: how many characters do we take to predict the next one?\n",
    "\n",
    "def build_dataset(words):  \n",
    "  X, Y = [], []\n",
    "  \n",
    "  for w in words:\n",
    "    context = [0] * block_size\n",
    "    for ch in w + '.':\n",
    "      ix = stoi[ch]\n",
    "      X.append(context)\n",
    "      Y.append(ix)\n",
    "      context = context[1:] + [ix] # crop and append\n",
    "\n",
    "  X = torch.tensor(X)\n",
    "  Y = torch.tensor(Y)\n",
    "  print(X.shape, Y.shape)\n",
    "  return X, Y\n",
    "\n",
    "import random\n",
    "random.seed(42)\n",
    "random.shuffle(words)\n",
    "n1 = int(0.8*len(words))\n",
    "n2 = int(0.9*len(words))\n",
    "\n",
    "Xtr,  Ytr  = build_dataset(words[:n1])     # 80%\n",
    "Xdev, Ydev = build_dataset(words[n1:n2])   # 10%\n",
    "Xte,  Yte  = build_dataset(words[n2:])     # 10%"
   ]
  },
  {
   "cell_type": "markdown",
   "id": "48596d87",
   "metadata": {},
   "source": [
    "<a id=\"initial-loss-tanh-saturations\"></a>\n",
    "## 1. Initial loss and Tanh saturations"
   ]
  },
  {
   "cell_type": "markdown",
   "id": "a7dc00d6",
   "metadata": {},
   "source": [
    "### MLP Model"
   ]
  },
  {
   "cell_type": "code",
   "execution_count": 6,
   "id": "ca7bb4c7",
   "metadata": {},
   "outputs": [
    {
     "name": "stdout",
     "output_type": "stream",
     "text": [
      "11897\n"
     ]
    }
   ],
   "source": [
    "# MLP revisited\n",
    "n_embd = 10 # the dimensionality of the character embedding vectors\n",
    "n_hidden = 200 # the number of neurons in the hidden layer of the MLP\n",
    "\n",
    "g = torch.Generator().manual_seed(2147483647) # for reproducibility\n",
    "C  = torch.randn((vocab_size, n_embd),            generator=g)\n",
    "W1 = torch.randn((n_embd * block_size, n_hidden), generator=g) * 0.2\n",
    "b1 = torch.randn(n_hidden,                        generator=g) * 0.01\n",
    "W2 = torch.randn((n_hidden, vocab_size),          generator=g) * 0.01\n",
    "b2 = torch.randn(vocab_size,                      generator=g) * 0  \n",
    "\n",
    "parameters = [C, W1, b1, W2, b2]\n",
    "print(sum(p.nelement() for p in parameters)) # number of parameters in total\n",
    "for p in parameters:\n",
    "  p.requires_grad = True"
   ]
  },
  {
   "cell_type": "markdown",
   "id": "2e6a4dcf",
   "metadata": {},
   "source": [
    "### Training"
   ]
  },
  {
   "cell_type": "code",
   "execution_count": 7,
   "id": "3f91f17e",
   "metadata": {},
   "outputs": [
    {
     "name": "stdout",
     "output_type": "stream",
     "text": [
      "      0/ 200000 = 3.3135\n",
      "  10000/ 200000 = 2.1648\n",
      "  20000/ 200000 = 2.3061\n",
      "  30000/ 200000 = 2.4541\n",
      "  40000/ 200000 = 1.9787\n",
      "  50000/ 200000 = 2.2930\n",
      "  60000/ 200000 = 2.4232\n",
      "  70000/ 200000 = 2.0680\n",
      "  80000/ 200000 = 2.3095\n",
      "  90000/ 200000 = 2.1207\n",
      " 100000/ 200000 = 1.8269\n",
      " 110000/ 200000 = 2.2045\n",
      " 120000/ 200000 = 1.9797\n",
      " 130000/ 200000 = 2.3946\n",
      " 140000/ 200000 = 2.1000\n",
      " 150000/ 200000 = 2.1948\n",
      " 160000/ 200000 = 1.8619\n",
      " 170000/ 200000 = 1.7809\n",
      " 180000/ 200000 = 1.9673\n",
      " 190000/ 200000 = 1.8295\n"
     ]
    }
   ],
   "source": [
    "max_steps = 200_000\n",
    "batch_size = 32\n",
    "lossi = []\n",
    "\n",
    "\n",
    "for i in range(max_steps):\n",
    "    # construct minibatch\n",
    "    ix = torch.randint(0, Xtr.shape[0], (batch_size,), generator=g)\n",
    "    Xb, Yb = Xtr[ix], Ytr[ix]\n",
    "\n",
    "    # forward pass\n",
    "    emb = C[Xb]  # embed characters to vector (batch_size, block_size, n_embd)==(32, 3, 10)\n",
    "    embcat = emb.view(emb.shape[0], -1) # concatenate vectors\n",
    "    hpreact = embcat @ W1 + b1 # hidden layer pre activation\n",
    "    hact = torch.tanh(hpreact) # tanh activation of hidden layer\n",
    "    logits = hact @ W2 + b2  # output layer\n",
    "    loss = F.cross_entropy(logits, Yb) # loss function\n",
    "\n",
    "    # backward pass\n",
    "    for p in parameters: # zero grad\n",
    "        p.grad = None\n",
    "\n",
    "    loss.backward()\n",
    "\n",
    "    # update grads\n",
    "    lr = 0.1 if i < 100_000 else 0.01 # step learning rate decay\n",
    "    for p in parameters:\n",
    "        p.data += -lr * p.grad\n",
    "\n",
    "    # track stats\n",
    "    if i%10_000 == 0:\n",
    "        print(f'{i:7d}/{max_steps:7d} = {loss.item():.4f}')\n",
    "    lossi.append(loss.log().item())\n"
   ]
  },
  {
   "cell_type": "code",
   "execution_count": 8,
   "id": "e091b1d8",
   "metadata": {},
   "outputs": [
    {
     "name": "stdout",
     "output_type": "stream",
     "text": [
      "train 2.0355966091156006\n",
      "val 2.1026782989501953\n"
     ]
    }
   ],
   "source": [
    "@torch.no_grad() # this decorator disables gradient tracking\n",
    "def split_loss(split):\n",
    "  x,y = {\n",
    "    'train': (Xtr, Ytr),\n",
    "    'val': (Xdev, Ydev),\n",
    "    'test': (Xte, Yte),\n",
    "  }[split]\n",
    "  emb = C[x] # (N, block_size, n_embd)\n",
    "  embcat = emb.view(emb.shape[0], -1) # concat into (N, block_size * n_embd)\n",
    "  hpreact = embcat @ W1 + b1\n",
    "  h = torch.tanh(hpreact) # (N, n_hidden)\n",
    "  logits = h @ W2 + b2 # (N, vocab_size)\n",
    "  loss = F.cross_entropy(logits, y)\n",
    "  print(split, loss.item())\n",
    "\n",
    "split_loss('train')\n",
    "split_loss('val')"
   ]
  },
  {
   "cell_type": "markdown",
   "id": "e88e0f12",
   "metadata": {},
   "source": [
    "### Gradients and Activation\n",
    "\n",
    "The hidden layer has the `tanh` activations to introduce the non-linearity in networks. `tanh` functions varies between **-1** to **+1**. Any values greater or lesser than these +1 or -1 are squashed to +1 and - 1 respectively.\n",
    "\n",
    "Histogram of pre-activations of MLP. It ranges between -15 to +15 \n",
    "\n",
    "![Hidden layer pre-activation distribution](hidden_preact.png)\n",
    "\n",
    "After `tanh` activation \n",
    "\n",
    "![Distribuion of Hidden layer tanh activation](hidden_act.png)\n",
    "\n",
    "We can clearly see the -1 and +1 are dominant values after `tanh` activation. This is a huge problem during backpropagation as The neurons with -1 and +1 outputs results in a zero gradient (or the gradient vanishes). The consequence of this is there is no update to the learning the parameters (weigths and biases) during the update step. \n",
    "\n",
    "#### What can we do?\n",
    "\n",
    "**Initialize the weigths and biases of the hidden layer to low values so that preactivation computation does not lead to huge variance.**\n",
    "\n",
    "Initializing weights and biases to random values and multiplying weight by factor of **0.2** and biases by factor of **0.01** results in following distributions.\n",
    "\n",
    "Preactivation\n",
    "\n",
    "![Hidden layer pre-activation after scaling](hidden_preact_good.png)\n",
    "\n",
    "`tanh` activation\n",
    "\n",
    "![Hidden layer activated after scaling](hidden_act_good.png)\n",
    "\n"
   ]
  },
  {
   "cell_type": "markdown",
   "id": "abcb679d",
   "metadata": {},
   "source": [
    "### Remarks:\n",
    "\n",
    "1. Initializing the neural network weights to all random values results in initial loss of `27.8817`. \n",
    "    - This is too high. Ideally, we want a network to think each of 27 character is equally likely. Which means the loss should be $$nll(\\frac{1}{27}) = -log(\\frac{1}{27})= 3.2958$$\n",
    "2. Setting the output layer biases to zero and weights to very small values by multiplying them by a factor of 0.01"
   ]
  },
  {
   "cell_type": "code",
   "execution_count": null,
   "id": "237a925f",
   "metadata": {},
   "outputs": [],
   "source": []
  },
  {
   "cell_type": "markdown",
   "id": "a7d72eab",
   "metadata": {},
   "source": [
    "<a id=\"kaiming-init\"></a>\n",
    "## Kaiming Init\n",
    "\n",
    "From previous section we learned that initializing the weights and biases of output layer, grounds the network from being over-confident on it's prediction during the initial loop. The hidden layer initializations causes the outputs to be very far in tails of tanh which creates the problem for network to learn parameters. So we have handpicked the initialization weights as `0.2` by analysing the results of first batch. This implies everytime we train the network we need to tune the parameter initializations of the hiddne layer(s). \n",
    "\n",
    "**Kaiming Initialization** provide a standart approach to initialize the paramters to overcome these issues.\n",
    "\n",
    "[Link to paper](https://arxiv.org/pdf/1502.01852)"
   ]
  },
  {
   "cell_type": "markdown",
   "id": "1b732ff9",
   "metadata": {},
   "source": [
    "### Intuition"
   ]
  },
  {
   "cell_type": "code",
   "execution_count": 9,
   "id": "788ac7ae",
   "metadata": {},
   "outputs": [
    {
     "name": "stdout",
     "output_type": "stream",
     "text": [
      "x.mean()=tensor(0.0169), x.std()=tensor(0.9965)\n",
      "y.mean()=tensor(0.0010), y.std()=tensor(1.0135)\n"
     ]
    },
    {
     "data": {
      "image/png": "[encoded data removed]",
      "text/plain": [
       "<Figure size 2000x500 with 2 Axes>"
      ]
     },
     "metadata": {},
     "output_type": "display_data"
    }
   ],
   "source": [
    "x = torch.randn(1000, 10) # 1000 samples, 10 inputs\n",
    "w = torch.randn(10, 200) / 10**0.5  # 10 inputs, 200 neurons\n",
    "y = x @ w\n",
    "print(f\"{x.mean()=}, {x.std()=}\")\n",
    "print(f\"{y.mean()=}, {y.std()=}\")\n",
    "plt.figure(figsize=(20,5))\n",
    "plt.subplot(121)\n",
    "plt.hist(x.view(-1).tolist(), 50, density=True);\n",
    "plt.subplot(122)\n",
    "plt.hist(y.view(-1).tolist(), 50, density=True);"
   ]
  },
  {
   "cell_type": "markdown",
   "id": "d742b709",
   "metadata": {},
   "source": [
    "With x and w initialized ot standard normal distribution (mean=0, std=1), when we multiply the of `x` and `w` we can see the **mean remains same but the standard deviation increases/expands**. The expansion of the output distribution will result in tanh saturations.\n",
    "\n",
    "Inorder to control std. of the output distribvution we need to multiply the weights intializations by a factor. Kaiming's initializations helps to mainitain the standard deviations of the output distribution. Check the pytorch [documentation](https://docs.pytorch.org/docs/stable/nn.init.html#torch.nn.init.kaiming_normal_) for differnt initialization settings.\n",
    "\n",
    "In our example we intialize by multiplying the factor $\\sqrt{1/fan_{in}}$ (where $fan_{in}$ is number of inputs to layer/neuron)."
   ]
  },
  {
   "cell_type": "markdown",
   "id": "87beb785",
   "metadata": {},
   "source": [
    "### MLP Model"
   ]
  },
  {
   "cell_type": "code",
   "execution_count": 10,
   "id": "bf5ddac7",
   "metadata": {},
   "outputs": [
    {
     "name": "stdout",
     "output_type": "stream",
     "text": [
      "11897\n"
     ]
    }
   ],
   "source": [
    "# MLP revisited\n",
    "n_embd = 10 # the dimensionality of the character embedding vectors\n",
    "n_hidden = 200 # the number of neurons in the hidden layer of the MLP\n",
    "\n",
    "g = torch.Generator().manual_seed(2147483647) # for reproducibility\n",
    "C  = torch.randn((vocab_size, n_embd),            generator=g)\n",
    "W1 = torch.randn((n_embd * block_size, n_hidden), generator=g) * (5/3)/(n_embd*block_size)**0.5 # Kaiming_normal factor\n",
    "b1 = torch.randn(n_hidden,                        generator=g) * 0.01\n",
    "W2 = torch.randn((n_hidden, vocab_size),          generator=g) * 0.01\n",
    "b2 = torch.randn(vocab_size,                      generator=g) * 0  \n",
    "\n",
    "parameters = [C, W1, b1, W2, b2]\n",
    "print(sum(p.nelement() for p in parameters)) # number of parameters in total\n",
    "for p in parameters:\n",
    "  p.requires_grad = True"
   ]
  },
  {
   "cell_type": "markdown",
   "id": "0a06da3f",
   "metadata": {},
   "source": [
    "### Training"
   ]
  },
  {
   "cell_type": "code",
   "execution_count": 11,
   "id": "d571eda6",
   "metadata": {},
   "outputs": [
    {
     "name": "stdout",
     "output_type": "stream",
     "text": [
      "      0/ 200000 = 3.3179\n",
      "  10000/ 200000 = 2.1910\n",
      "  20000/ 200000 = 2.3270\n",
      "  30000/ 200000 = 2.5396\n",
      "  40000/ 200000 = 1.9468\n",
      "  50000/ 200000 = 2.3331\n",
      "  60000/ 200000 = 2.3852\n",
      "  70000/ 200000 = 2.1173\n",
      "  80000/ 200000 = 2.3159\n",
      "  90000/ 200000 = 2.2010\n",
      " 100000/ 200000 = 1.8591\n",
      " 110000/ 200000 = 2.0881\n",
      " 120000/ 200000 = 1.9389\n",
      " 130000/ 200000 = 2.3913\n",
      " 140000/ 200000 = 2.0949\n",
      " 150000/ 200000 = 2.1458\n",
      " 160000/ 200000 = 1.7824\n",
      " 170000/ 200000 = 1.7249\n",
      " 180000/ 200000 = 1.9751\n",
      " 190000/ 200000 = 1.8614\n"
     ]
    }
   ],
   "source": [
    "max_steps = 200_000\n",
    "batch_size = 32\n",
    "lossi = []\n",
    "\n",
    "\n",
    "for i in range(max_steps):\n",
    "    # construct minibatch\n",
    "    ix = torch.randint(0, Xtr.shape[0], (batch_size,), generator=g)\n",
    "    Xb, Yb = Xtr[ix], Ytr[ix]\n",
    "\n",
    "    # forward pass\n",
    "    emb = C[Xb]  # embed characters to vector (batch_size, block_size, n_embd)==(32, 3, 10)\n",
    "    embcat = emb.view(emb.shape[0], -1) # concatenate vectors\n",
    "    hpreact = embcat @ W1 + b1 # hidden layer pre activation\n",
    "    hact = torch.tanh(hpreact) # tanh activation of hidden layer\n",
    "    logits = hact @ W2 + b2  # output layer\n",
    "    loss = F.cross_entropy(logits, Yb) # loss function\n",
    "\n",
    "    # backward pass\n",
    "    for p in parameters: # zero grad\n",
    "        p.grad = None\n",
    "\n",
    "    loss.backward()\n",
    "\n",
    "    # update grads\n",
    "    lr = 0.1 if i < 100_000 else 0.01 # step learning rate decay\n",
    "    for p in parameters:\n",
    "        p.data += -lr * p.grad\n",
    "\n",
    "    # track stats\n",
    "    if i%10_000 == 0:\n",
    "        print(f'{i:7d}/{max_steps:7d} = {loss.item():.4f}')\n",
    "    lossi.append(loss.log().item())\n"
   ]
  },
  {
   "cell_type": "code",
   "execution_count": 12,
   "id": "f431e86a",
   "metadata": {},
   "outputs": [
    {
     "name": "stdout",
     "output_type": "stream",
     "text": [
      "train 2.0376641750335693\n",
      "val 2.106989622116089\n"
     ]
    }
   ],
   "source": [
    "split_loss('train')\n",
    "split_loss('val')"
   ]
  },
  {
   "cell_type": "markdown",
   "id": "3b2c380c",
   "metadata": {},
   "source": [
    "## Batch Normalizations\n",
    "\n",
    "In 2025 initialzing the parameters precisely is not important anymore due to the modern innovations. Batch Normalizations is one such innovation that helps mitigate the tanh saturations.\n",
    "\n",
    "Batch Normalization is a simple and straight forward idea developed by team in google. Standardize (subtract mean and divide by std.dev) the outputs over the mini-batch. \n",
    "\n",
    "![Batch norm](batch_norms.png)"
   ]
  },
  {
   "cell_type": "markdown",
   "id": "d22b8572",
   "metadata": {},
   "source": [
    "### MLP Model"
   ]
  },
  {
   "cell_type": "code",
   "execution_count": 26,
   "id": "dd678f04",
   "metadata": {},
   "outputs": [
    {
     "name": "stdout",
     "output_type": "stream",
     "text": [
      "12097\n"
     ]
    }
   ],
   "source": [
    "# MLP revisited\n",
    "n_embd = 10 # the dimensionality of the character embedding vectors\n",
    "n_hidden = 200 # the number of neurons in the hidden layer of the MLP\n",
    "\n",
    "g = torch.Generator().manual_seed(2147483647) # for reproducibility\n",
    "C  = torch.randn((vocab_size, n_embd),            generator=g)\n",
    "W1 = torch.randn((n_embd * block_size, n_hidden), generator=g) * (5/3)/(n_embd*block_size)**0.5 # Kaiming_normal factor\n",
    "# b1 = torch.randn(n_hidden,                        generator=g) * 0.01\n",
    "W2 = torch.randn((n_hidden, vocab_size),          generator=g) * 0.01\n",
    "b2 = torch.randn(vocab_size,                      generator=g) * 0  \n",
    "\n",
    "bngain = torch.ones((1, n_hidden))\n",
    "bnbias = torch.zeros((1, n_hidden))\n",
    "bnmean_running = torch.zeros((1, n_hidden))\n",
    "bnstd_running = torch.ones((1, n_hidden))\n",
    "\n",
    "parameters = [C, W1, W2, b2, bngain, bnbias] #[C, W1, b1, W2, b2, bngain, bnbias]\n",
    "print(sum(p.nelement() for p in parameters)) # number of parameters in total\n",
    "for p in parameters:\n",
    "  p.requires_grad = True"
   ]
  },
  {
   "cell_type": "markdown",
   "id": "5844e06c",
   "metadata": {},
   "source": [
    "### Training"
   ]
  },
  {
   "cell_type": "code",
   "execution_count": null,
   "id": "1f974f2f",
   "metadata": {},
   "outputs": [
    {
     "name": "stdout",
     "output_type": "stream",
     "text": [
      "      0/ 200000 = 3.3147\n",
      "  10000/ 200000 = 2.1984\n",
      "  20000/ 200000 = 2.3375\n",
      "  30000/ 200000 = 2.4359\n",
      "  40000/ 200000 = 2.0119\n",
      "  50000/ 200000 = 2.2595\n",
      "  60000/ 200000 = 2.4775\n",
      "  70000/ 200000 = 2.1020\n",
      "  80000/ 200000 = 2.2788\n",
      "  90000/ 200000 = 2.1862\n",
      " 100000/ 200000 = 1.9474\n",
      " 110000/ 200000 = 2.3010\n",
      " 120000/ 200000 = 1.9837\n",
      " 130000/ 200000 = 2.4523\n",
      " 140000/ 200000 = 2.3839\n",
      " 150000/ 200000 = 2.1987\n",
      " 160000/ 200000 = 1.9733\n",
      " 170000/ 200000 = 1.8668\n",
      " 180000/ 200000 = 1.9973\n",
      " 190000/ 200000 = 1.8347\n"
     ]
    }
   ],
   "source": [
    "max_steps = 200_000\n",
    "batch_size = 32\n",
    "lossi = []\n",
    "\n",
    "\n",
    "for i in range(max_steps):\n",
    "    # construct minibatch\n",
    "    ix = torch.randint(0, Xtr.shape[0], (batch_size,), generator=g)\n",
    "    Xb, Yb = Xtr[ix], Ytr[ix]\n",
    "\n",
    "    # forward pass\n",
    "    emb = C[Xb]  # embed characters to vector (batch_size, block_size, n_embd)==(32, 3, 10)\n",
    "    embcat = emb.view(emb.shape[0], -1) # concatenate vectors\n",
    "    # Linear layer\n",
    "    hpreact = embcat @ W1 + b1 # hidden layer pre activation\n",
    "    # Batch norm layer\n",
    "    # ---------------------------------------------------------------\n",
    "    bnmeani = hpreact.mean(0, keepdim=True)\n",
    "    bnstdi = hpreact.std(0, keepdim=True)\n",
    "    hpreact = bngain * (hpreact - bnmeani)/bnstdi + bnbias\n",
    "\n",
    "    with torch.no_grad():\n",
    "        bnmean_running = 0.999 * bnmean_running + 0.001 * bnmeani\n",
    "        bnstd_running = 0.999 * bnstd_running + 0.001 * bnstdi\n",
    "    # ---------------------------------------------------------------\n",
    "    # Tanh non-linearity\n",
    "    hact = torch.tanh(hpreact) # tanh activation of hidden layer\n",
    "    logits = hact @ W2 + b2  # output layer\n",
    "    loss = F.cross_entropy(logits, Yb) # loss function\n",
    "\n",
    "    # backward pass\n",
    "    for p in parameters: # zero grad\n",
    "        p.grad = None\n",
    "    loss.backward()\n",
    "\n",
    "    # update grads\n",
    "    lr = 0.1 if i < 100_000 else 0.01 # step learning rate decay\n",
    "    for p in parameters:\n",
    "        p.data += -lr * p.grad\n",
    "\n",
    "    # track stats\n",
    "    if i%10_000 == 0:\n",
    "        print(f'{i:7d}/{max_steps:7d} = {loss.item():.4f}')\n",
    "    lossi.append(loss.log().item())\n"
   ]
  },
  {
   "cell_type": "code",
   "execution_count": 22,
   "id": "65eacccd",
   "metadata": {},
   "outputs": [],
   "source": [
    "# calibrate batch norm at end of training\n",
    "\n",
    "with torch.no_grad():\n",
    "    # pass the training set through\n",
    "    emb = C[Xtr]\n",
    "    embcat = emb.view(emb.shape[0], -1)\n",
    "    hpreact = embcat @ W1 + b1\n",
    "    # measure mean/std over the entire training set\n",
    "    bnmean = hpreact.mean(0, keepdim=True)\n",
    "    bnstd = hpreact.std(0, keepdim=True)"
   ]
  },
  {
   "cell_type": "code",
   "execution_count": 23,
   "id": "5e7d2b10",
   "metadata": {},
   "outputs": [
    {
     "data": {
      "text/plain": [
       "tensor([[-2.3355,  0.6776, -0.9133,  1.0163,  1.0865,  1.0938,  1.7437, -2.1208,\n",
       "          0.5730,  1.4455, -1.6343, -2.7372, -0.4752, -0.1412, -0.0745, -1.1722,\n",
       "          0.6851, -2.6219, -0.1065,  1.6326, -0.7706, -0.3063,  0.0479,  0.6115,\n",
       "          1.1173,  0.2427,  2.0500,  0.5831,  0.8527,  1.7680, -0.3625, -0.8355,\n",
       "         -0.0854, -0.5177, -0.3806, -1.0699, -0.0786,  0.3487, -0.5808,  0.9875,\n",
       "         -0.4427, -1.3082, -0.2871, -0.2332,  0.6850,  0.6850,  2.0857, -0.7608,\n",
       "          2.3866,  1.8734,  0.8259,  0.2803,  1.8897,  0.4709,  0.6739, -1.8940,\n",
       "         -0.0401,  0.4338,  1.3760, -0.8910, -0.4524,  1.1754,  0.5613,  0.6051,\n",
       "          1.5859,  1.2261, -1.0111,  2.1495, -0.6392,  0.0938, -0.2864, -0.4856,\n",
       "          0.9632, -1.0461, -2.9990,  0.6391,  1.4327, -0.1590,  0.0941,  0.5253,\n",
       "          0.2508,  1.2521,  2.0388,  0.6608,  0.0691, -0.0813, -1.6724,  0.2933,\n",
       "          2.2423, -0.0210, -0.6666,  1.4253, -0.8412, -1.2248, -1.0129,  0.2230,\n",
       "          0.2112, -0.3226,  0.1141, -0.6350,  0.1848,  0.1165, -1.3947,  0.2343,\n",
       "          0.2170, -0.3493, -0.3409, -0.1918,  0.9244, -0.8073,  0.7147,  0.2383,\n",
       "          0.3964,  1.2354,  2.8623,  2.0470,  0.8419,  0.8480,  0.3483, -0.3153,\n",
       "         -1.0647, -1.4465,  0.3518,  1.1174, -1.1265,  0.0688, -0.2204, -0.4964,\n",
       "         -0.8558, -1.0849,  2.8098, -1.2866,  0.6543,  1.8674,  0.9511,  1.0606,\n",
       "         -0.7020,  1.8505,  0.1528,  0.4583,  1.6235, -0.1899,  1.9335,  0.2938,\n",
       "          0.4391,  0.2065,  1.1369, -0.6884,  0.1559,  0.5905, -1.5956, -0.2324,\n",
       "          1.7724,  1.2664,  0.9916, -0.4957,  1.4023, -1.6664,  0.0178,  0.4224,\n",
       "          0.5857, -0.4225,  0.9377, -1.1793, -0.4486, -0.7184, -0.3307, -0.4207,\n",
       "         -2.1519, -0.1099,  1.1733, -2.1530,  0.1215, -0.8929, -0.9959,  0.9028,\n",
       "          1.3427, -0.7526,  1.3065, -1.5016,  1.8439,  0.9704,  0.8244, -0.7247,\n",
       "          0.3621,  0.0769, -0.9657,  0.1345,  1.8784,  0.9191, -0.5020,  1.6438,\n",
       "         -0.7394,  0.2081,  0.1425,  1.2711,  1.8083, -0.8162,  0.2586,  1.2403]])"
      ]
     },
     "execution_count": 23,
     "metadata": {},
     "output_type": "execute_result"
    }
   ],
   "source": [
    "bnmean"
   ]
  },
  {
   "cell_type": "code",
   "execution_count": 24,
   "id": "902cf58d",
   "metadata": {},
   "outputs": [
    {
     "data": {
      "text/plain": [
       "tensor([[-2.3539,  0.6872, -0.9000,  1.0159,  1.0894,  1.0862,  1.7389, -2.1356,\n",
       "          0.5608,  1.4246, -1.6445, -2.7426, -0.4861, -0.1510, -0.0687, -1.1550,\n",
       "          0.6891, -2.6399, -0.1283,  1.6240, -0.7732, -0.2864,  0.0467,  0.6119,\n",
       "          1.1172,  0.2433,  2.0542,  0.5778,  0.8515,  1.7729, -0.3741, -0.8385,\n",
       "         -0.0831, -0.5198, -0.3817, -1.0699, -0.0781,  0.3370, -0.5769,  0.9935,\n",
       "         -0.4507, -1.3313, -0.2895, -0.2298,  0.6877,  0.6936,  2.0835, -0.7759,\n",
       "          2.3804,  1.8614,  0.8118,  0.2735,  1.8802,  0.4705,  0.6656, -1.8962,\n",
       "         -0.0420,  0.4356,  1.3924, -0.8906, -0.4676,  1.1688,  0.5539,  0.6001,\n",
       "          1.5853,  1.2103, -1.0171,  2.1422, -0.6330,  0.1071, -0.2926, -0.4831,\n",
       "          0.9506, -1.0144, -2.9925,  0.6269,  1.4404, -0.1574,  0.0955,  0.5159,\n",
       "          0.2487,  1.2401,  2.0104,  0.6695,  0.0768, -0.0851, -1.6768,  0.2963,\n",
       "          2.2374, -0.0100, -0.6669,  1.4356, -0.8431, -1.2317, -1.0220,  0.2201,\n",
       "          0.1928, -0.3261,  0.1108, -0.6206,  0.1795,  0.1089, -1.4007,  0.2215,\n",
       "          0.2301, -0.3369, -0.3340, -0.1849,  0.9342, -0.8288,  0.7119,  0.2475,\n",
       "          0.3813,  1.2447,  2.8427,  2.0338,  0.8295,  0.8458,  0.3483, -0.3078,\n",
       "         -1.0773, -1.4394,  0.3424,  1.1274, -1.1252,  0.0692, -0.2308, -0.4936,\n",
       "         -0.8471, -1.0785,  2.8080, -1.2823,  0.6541,  1.8701,  0.9662,  1.0696,\n",
       "         -0.7051,  1.8326,  0.1624,  0.4782,  1.6376, -0.1962,  1.9364,  0.2986,\n",
       "          0.4300,  0.2062,  1.1390, -0.6907,  0.1571,  0.5883, -1.5947, -0.2230,\n",
       "          1.7796,  1.2689,  0.9813, -0.4950,  1.4052, -1.6645,  0.0249,  0.4152,\n",
       "          0.5742, -0.4044,  0.9335, -1.1684, -0.4574, -0.7229, -0.3192, -0.4214,\n",
       "         -2.1397, -0.1036,  1.1620, -2.1602,  0.1196, -0.8846, -0.9970,  0.9115,\n",
       "          1.3361, -0.7411,  1.2991, -1.5061,  1.8279,  0.9732,  0.8192, -0.7259,\n",
       "          0.3556,  0.0714, -0.9718,  0.1299,  1.8912,  0.9107, -0.4950,  1.6493,\n",
       "         -0.7601,  0.2008,  0.1606,  1.2586,  1.8110, -0.8021,  0.2453,  1.2369]])"
      ]
     },
     "execution_count": 24,
     "metadata": {},
     "output_type": "execute_result"
    }
   ],
   "source": [
    "bnmean_running"
   ]
  },
  {
   "cell_type": "markdown",
   "id": "0359aefd",
   "metadata": {},
   "source": [
    "`bnmean` and `bnmean_running` should be approximately the same. This is similar intuition behined the std dev too."
   ]
  },
  {
   "cell_type": "code",
   "execution_count": null,
   "id": "cd0a83c8",
   "metadata": {},
   "outputs": [
    {
     "name": "stdout",
     "output_type": "stream",
     "text": [
      "train 2.06659197807312\n",
      "val 2.1050572395324707\n"
     ]
    }
   ],
   "source": [
    "@torch.no_grad() # this decorator disables gradient tracking\n",
    "def split_loss(split):\n",
    "  x,y = {\n",
    "    'train': (Xtr, Ytr),\n",
    "    'val': (Xdev, Ydev),\n",
    "    'test': (Xte, Yte),\n",
    "  }[split]\n",
    "  emb = C[x] # (N, block_size, n_embd)\n",
    "  embcat = emb.view(emb.shape[0], -1) # concat into (N, block_size * n_embd)\n",
    "  hpreact = embcat @ W1 + b1\n",
    "  # hpreact = bngain * (hpreact - hpreact.mean(0, keepdim=True))/hpreact.std(0, keepdim=True) + bnbias\n",
    "  hpreact = bngain * (hpreact - bnmean_running)/bnstd_running + bnbias\n",
    "  h = torch.tanh(hpreact) # (N, n_hidden)\n",
    "  logits = h @ W2 + b2 # (N, vocab_size)\n",
    "  loss = F.cross_entropy(logits, y)\n",
    "  print(split, loss.item())\n",
    "\n",
    "split_loss('train')\n",
    "split_loss('val')"
   ]
  },
  {
   "cell_type": "markdown",
   "id": "fc16a36d",
   "metadata": {},
   "source": [
    "#### Second order effect of Batch normalization\n",
    "\n",
    "Prior to Batch normalization, one input sample only impacts its logits at the output. Since we are batch normalizing the preactivation outputs based on all samples in mini-batch (we are mathematically tying other samples in mini-batch to this sample). The other samples that have come in for the ride has impact on the output of batch norm and so the output logits. This causes the outputs to be **jittery**.\n",
    "\n",
    "This process of normalizing over mini-batch, indirectly causes a **regularizing effect** making the neural net not to overfit the output on the given input. This effect makes the approach even more powerful for training the neural networks.\n",
    "\n",
    "\n",
    "#### Notes\n",
    "1. We dont have to seperately compute the `bnmean` and `bnstd` after training. Instead we can keep track of the running mean and std. values as given in the [paper](https://arxiv.org/pdf/1502.03167)\n",
    "2. `bias` term of the preactivation layer of hidden unit cancels itself out in the batch normalization step. The bias term in this step has no effect on the network. Moreover batch normalization has its own bias so there is no need for the preactivation layer bias."
   ]
  },
  {
   "cell_type": "code",
   "execution_count": null,
   "id": "27e70231",
   "metadata": {},
   "outputs": [],
   "source": []
  }
 ],
 "metadata": {
  "kernelspec": {
   "display_name": ".venv",
   "language": "python",
   "name": "python3"
  },
  "language_info": {
   "codemirror_mode": {
    "name": "ipython",
    "version": 3
   },
   "file_extension": ".py",
   "mimetype": "text/x-python",
   "name": "python",
   "nbconvert_exporter": "python",
   "pygments_lexer": "ipython3",
   "version": "3.12.8"
  }
 },
 "nbformat": 4,
 "nbformat_minor": 5
}
